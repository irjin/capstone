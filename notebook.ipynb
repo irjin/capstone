{
 "cells": [
  {
   "cell_type": "code",
   "execution_count": 1,
   "id": "809293ec",
   "metadata": {},
   "outputs": [],
   "source": [
    "import pandas as pd\n",
    "import numpy as np\n",
    "import string\n",
    "\n",
    "import nltk\n",
    "from nltk.corpus import stopwords\n",
    "from nltk.sentiment.vader import SentimentIntensityAnalyzer\n",
    "\n",
    "from sklearn.feature_extraction.text import TfidfVectorizer\n",
    "from sklearn.metrics.pairwise import cosine_similarity\n",
    "\n",
    "from sklearn.preprocessing import MinMaxScaler\n",
    "from sklearn.model_selection import train_test_split\n",
    "from sklearn.metrics import accuracy_score\n",
    "\n",
    "import warnings\n",
    "warnings.filterwarnings(\"ignore\")"
   ]
  },
  {
   "cell_type": "markdown",
   "id": "0ab6820c",
   "metadata": {},
   "source": [
    "### Data Cleaning"
   ]
  },
  {
   "cell_type": "code",
   "execution_count": 2,
   "id": "278e9a9b",
   "metadata": {},
   "outputs": [
    {
     "data": {
      "text/html": [
       "<div>\n",
       "<style scoped>\n",
       "    .dataframe tbody tr th:only-of-type {\n",
       "        vertical-align: middle;\n",
       "    }\n",
       "\n",
       "    .dataframe tbody tr th {\n",
       "        vertical-align: top;\n",
       "    }\n",
       "\n",
       "    .dataframe thead th {\n",
       "        text-align: right;\n",
       "    }\n",
       "</style>\n",
       "<table border=\"1\" class=\"dataframe\">\n",
       "  <thead>\n",
       "    <tr style=\"text-align: right;\">\n",
       "      <th></th>\n",
       "      <th>title</th>\n",
       "      <th>article</th>\n",
       "      <th>summary</th>\n",
       "      <th>label</th>\n",
       "    </tr>\n",
       "  </thead>\n",
       "  <tbody>\n",
       "    <tr>\n",
       "      <th>0</th>\n",
       "      <td>Haaretz investigation reveals discrepancies in...</td>\n",
       "      <td>A viral Oct. 28 social media post claimed that...</td>\n",
       "      <td>Haaretz, an Israeli newspaper, said on X that ...</td>\n",
       "      <td>0.0</td>\n",
       "    </tr>\n",
       "    <tr>\n",
       "      <th>1</th>\n",
       "      <td>Wisconsin has historically … and I think large...</td>\n",
       "      <td>In 2016, Wisconsin helped to swing the preside...</td>\n",
       "      <td>Although Wisconsin has voted for more Democrat...</td>\n",
       "      <td>4.0</td>\n",
       "    </tr>\n",
       "  </tbody>\n",
       "</table>\n",
       "</div>"
      ],
      "text/plain": [
       "                                               title  \\\n",
       "0  Haaretz investigation reveals discrepancies in...   \n",
       "1  Wisconsin has historically … and I think large...   \n",
       "\n",
       "                                             article  \\\n",
       "0  A viral Oct. 28 social media post claimed that...   \n",
       "1  In 2016, Wisconsin helped to swing the preside...   \n",
       "\n",
       "                                             summary  label  \n",
       "0  Haaretz, an Israeli newspaper, said on X that ...    0.0  \n",
       "1  Although Wisconsin has voted for more Democrat...    4.0  "
      ]
     },
     "execution_count": 2,
     "metadata": {},
     "output_type": "execute_result"
    }
   ],
   "source": [
    "### Read & clean the original dataset \n",
    "\n",
    "def read_dataset(csv):\n",
    "    df = pd.read_csv(csv)\n",
    "    df = df.drop(columns=[\"percentages\", \"check_nums\"]).drop_duplicates().dropna()\n",
    "    mapping = {\n",
    "        \"false\": 4,\n",
    "        \"half-true\": 2,\n",
    "        \"mostly-true\": 1,\n",
    "        \"true\": 0,\n",
    "        \"barely-true\": 3,\n",
    "        \"pants-fire\": 5\n",
    "    }\n",
    "    \n",
    "    df[\"label\"] = df[\"label\"].map(mapping)\n",
    "    df = df[pd.to_numeric(df[\"label\"], errors=\"coerce\").notna()]\n",
    "    df = df[[\"content\",\"article\",\"summaries\",\"label\"]]\n",
    "    df[\"content\"] = df[\"content\"].str.replace(r'[“\\”]', '', regex=True)\n",
    "    df[\"summaries\"] = df[\"summaries\"].str.replace(r'[\\[\\]\\'\"]', '', regex=True)\n",
    "    df.columns = [\"title\", \"article\", \"summary\", \"label\"]\n",
    "    return df\n",
    "\n",
    "df = read_dataset(\"politifact_data_combined.csv\")\n",
    "df = df = df[df['summary'] != '']\n",
    "df.head(2)"
   ]
  },
  {
   "cell_type": "markdown",
   "id": "15564649",
   "metadata": {},
   "source": [
    "### Feature 1: ClickBait (Cosine Similarity Between Title and Article)"
   ]
  },
  {
   "cell_type": "code",
   "execution_count": 5,
   "id": "29d041a9",
   "metadata": {},
   "outputs": [],
   "source": [
    "# 1. Calculate the TF-IDF for title and article\n",
    "\n",
    "tfidf_vectorizer = TfidfVectorizer()\n",
    "\n",
    "tfidf_title = tfidf_vectorizer.fit_transform(df[\"title\"])\n",
    "tfidf_article = tfidf_vectorizer.transform(df[\"article\"])\n",
    "\n",
    "\n",
    "# 2. Cosine Similarity\n",
    "\n",
    "cosine = cosine_similarity(tfidf_title, tfidf_article)\n",
    "cosine_sim = cosine.diagonal()\n",
    "\n",
    "df[\"similarity\"] = cosine_sim"
   ]
  },
  {
   "cell_type": "markdown",
   "id": "8257f032",
   "metadata": {},
   "source": [
    "### Feature 2: Sentiment Analysis  (pos=1, neg=-1, neu=0)"
   ]
  },
  {
   "cell_type": "code",
   "execution_count": 6,
   "id": "289c8adb",
   "metadata": {},
   "outputs": [],
   "source": [
    "# 1. Sentiment Analysis Using NLTK\n",
    "\n",
    "analyzer = SentimentIntensityAnalyzer()\n",
    "df[\"sentiment\"] = df[\"article\"].apply(lambda x: analyzer.polarity_scores(x)[\"compound\"])"
   ]
  },
  {
   "cell_type": "markdown",
   "id": "6263adf1",
   "metadata": {},
   "source": [
    "### Feature 3: Quality of Writing (Type-Token Ratio (TTR))"
   ]
  },
  {
   "cell_type": "code",
   "execution_count": 14,
   "id": "17d3944d",
   "metadata": {},
   "outputs": [],
   "source": [
    "# 1. Remove stopwords and punctuation & Make lowercase\n",
    "\n",
    "punctuation = set(string.punctuation)\n",
    "stopwords = set(stopwords.words(\"english\"))\n",
    "\n",
    "def remove_stopwords(text):\n",
    "    words = text.split()\n",
    "    filtered_words = [w for w in words if w not in stopwords]\n",
    "    return \" \".join(filtered_words)\n",
    "\n",
    "def remove_punctuation(text):\n",
    "    cleaned_text = ''.join([char for char in text if char not in punctuation])\n",
    "    return cleaned_text\n",
    "\n",
    "df[\"article\"] = df[\"article\"].apply(lambda x: x.lower())\n",
    "df[\"article\"] = df[\"article\"].apply(remove_punctuation)\n",
    "df[\"article\"] = df[\"article\"].apply(remove_stopwords)\n",
    "\n",
    "# 2. TTR = unique_words/total_words\n",
    "\n",
    "df['ttr'] = df['article'].apply(lambda x: x.split()).apply(lambda words: len(set(words)) / len(words))"
   ]
  },
  {
   "cell_type": "markdown",
   "id": "0e56c613",
   "metadata": {},
   "source": [
    "### Feature 4: Expressiveness (Adjectives)"
   ]
  },
  {
   "cell_type": "code",
   "execution_count": 17,
   "id": "5b24dace",
   "metadata": {},
   "outputs": [],
   "source": [
    "# 1. Open List of Adjectives (Link: https://gist.github.com/hugsy/8910dc78d208e40de42deb29e62df913)\n",
    "    ### Additional Sources: https://github.com/taikuukaits/SimpleWordlists/tree/master\n",
    "\n",
    "with open(\"adjectives.txt\", \"r\") as file:\n",
    "    adjectives = [line.strip() for line in file]\n",
    "    \n",
    "# 2. Count adjectives\n",
    "\n",
    "def count_adjectives(text):\n",
    "    words = text.split()\n",
    "    adjective_count = sum(1 for word in words if word.lower() in adjectives) / len(words)\n",
    "    return adjective_count\n",
    "\n",
    "df[\"adjectives\"] = df[\"article\"].apply(count_adjectives)"
   ]
  },
  {
   "cell_type": "markdown",
   "id": "21dc25b1",
   "metadata": {},
   "source": [
    "### Predictions"
   ]
  },
  {
   "cell_type": "code",
   "execution_count": 21,
   "id": "9e43a229",
   "metadata": {},
   "outputs": [
    {
     "data": {
      "text/html": [
       "<div>\n",
       "<style scoped>\n",
       "    .dataframe tbody tr th:only-of-type {\n",
       "        vertical-align: middle;\n",
       "    }\n",
       "\n",
       "    .dataframe tbody tr th {\n",
       "        vertical-align: top;\n",
       "    }\n",
       "\n",
       "    .dataframe thead th {\n",
       "        text-align: right;\n",
       "    }\n",
       "</style>\n",
       "<table border=\"1\" class=\"dataframe\">\n",
       "  <thead>\n",
       "    <tr style=\"text-align: right;\">\n",
       "      <th></th>\n",
       "      <th>title</th>\n",
       "      <th>article</th>\n",
       "      <th>summary</th>\n",
       "      <th>label</th>\n",
       "      <th>similarity</th>\n",
       "      <th>sentiment</th>\n",
       "      <th>ttr</th>\n",
       "      <th>adjectives</th>\n",
       "    </tr>\n",
       "  </thead>\n",
       "  <tbody>\n",
       "    <tr>\n",
       "      <th>0</th>\n",
       "      <td>Haaretz investigation reveals discrepancies in...</td>\n",
       "      <td>viral oct 28 social media post claimed israel ...</td>\n",
       "      <td>Haaretz, an Israeli newspaper, said on X that ...</td>\n",
       "      <td>0.0</td>\n",
       "      <td>0.457559</td>\n",
       "      <td>-0.9994</td>\n",
       "      <td>0.593137</td>\n",
       "      <td>0.031863</td>\n",
       "    </tr>\n",
       "    <tr>\n",
       "      <th>1</th>\n",
       "      <td>Wisconsin has historically … and I think large...</td>\n",
       "      <td>2016 wisconsin helped swing presidential vote ...</td>\n",
       "      <td>Although Wisconsin has voted for more Democrat...</td>\n",
       "      <td>4.0</td>\n",
       "      <td>0.358756</td>\n",
       "      <td>0.9919</td>\n",
       "      <td>0.640472</td>\n",
       "      <td>0.098232</td>\n",
       "    </tr>\n",
       "  </tbody>\n",
       "</table>\n",
       "</div>"
      ],
      "text/plain": [
       "                                               title  \\\n",
       "0  Haaretz investigation reveals discrepancies in...   \n",
       "1  Wisconsin has historically … and I think large...   \n",
       "\n",
       "                                             article  \\\n",
       "0  viral oct 28 social media post claimed israel ...   \n",
       "1  2016 wisconsin helped swing presidential vote ...   \n",
       "\n",
       "                                             summary  label  similarity  \\\n",
       "0  Haaretz, an Israeli newspaper, said on X that ...    0.0    0.457559   \n",
       "1  Although Wisconsin has voted for more Democrat...    4.0    0.358756   \n",
       "\n",
       "   sentiment       ttr  adjectives  \n",
       "0    -0.9994  0.593137    0.031863  \n",
       "1     0.9919  0.640472    0.098232  "
      ]
     },
     "execution_count": 21,
     "metadata": {},
     "output_type": "execute_result"
    }
   ],
   "source": [
    "df.head(2)"
   ]
  },
  {
   "cell_type": "code",
   "execution_count": 22,
   "id": "93e7b99a",
   "metadata": {},
   "outputs": [],
   "source": [
    "X = df.drop(columns=[\"title\",\"article\",\"summary\",\"label\"])\n",
    "y = df[\"label\"]\n",
    "\n",
    "X_train, X_test, y_train, y_test = train_test_split(X, y, test_size=0.2, random_state=42)"
   ]
  },
  {
   "cell_type": "code",
   "execution_count": 20,
   "id": "465dfa6b",
   "metadata": {},
   "outputs": [],
   "source": [
    "import numpy as np\n",
    "import matplotlib.pyplot as plt\n",
    "from matplotlib.colors import ListedColormap\n",
    "from sklearn.model_selection import train_test_split\n",
    "from sklearn.preprocessing import StandardScaler\n",
    "from sklearn.datasets import make_moons, make_circles, make_classification\n",
    "from sklearn.neural_network import MLPClassifier\n",
    "from sklearn.neighbors import KNeighborsClassifier\n",
    "from sklearn.svm import SVC\n",
    "from sklearn.gaussian_process import GaussianProcessClassifier\n",
    "from sklearn.gaussian_process.kernels import RBF\n",
    "from sklearn.tree import DecisionTreeClassifier\n",
    "from sklearn.ensemble import RandomForestClassifier, AdaBoostClassifier\n",
    "from sklearn.naive_bayes import GaussianNB\n",
    "from sklearn.discriminant_analysis import QuadraticDiscriminantAnalysis"
   ]
  },
  {
   "cell_type": "code",
   "execution_count": 23,
   "id": "fe2e02d4",
   "metadata": {},
   "outputs": [
    {
     "name": "stdout",
     "output_type": "stream",
     "text": [
      "--------------------------------------------------------------------------------\n",
      "Best --> Classifier = Decision Tree, Score (test, accuracy) = 53.96\n"
     ]
    }
   ],
   "source": [
    "classifiers = [\n",
    "    KNeighborsClassifier(2),\n",
    "    SVC(kernel=\"linear\", C=0.025),\n",
    "    SVC(gamma=2, C=1),\n",
    "    DecisionTreeClassifier(max_depth=5),\n",
    "    RandomForestClassifier(max_depth=5, n_estimators=10, max_features=1),\n",
    "    MLPClassifier(alpha=1, max_iter=1000),\n",
    "    AdaBoostClassifier(),\n",
    "    GaussianNB(),\n",
    "    QuadraticDiscriminantAnalysis()]\n",
    "\n",
    "names = [\"Nearest Neighbors\", \"Linear SVM\", \"RBF SVM\",\n",
    "         \"Decision Tree\", \"Random Forest\", \"Neural Net\", \"AdaBoost\",\n",
    "         \"Naive Bayes\", \"QDA\"]\n",
    "\n",
    "max_score = 0.0\n",
    "max_class = ''\n",
    "\n",
    "for name, clf in zip(names, classifiers):\n",
    "    clf.fit(X_train, y_train)\n",
    "    score = 100.0 * clf.score(X_test, y_test)\n",
    "\n",
    "    if score > max_score:\n",
    "        clf_best = clf\n",
    "        max_score = score\n",
    "        max_class = name\n",
    "\n",
    "print(80*'-' )\n",
    "print('Best --> Classifier = %s, Score (test, accuracy) = %.2f' %(max_class, max_score))"
   ]
  },
  {
   "cell_type": "code",
   "execution_count": null,
   "id": "afcdc7d8",
   "metadata": {},
   "outputs": [],
   "source": []
  }
 ],
 "metadata": {
  "kernelspec": {
   "display_name": "Python 3 (clean)",
   "language": "python",
   "name": "python3_clean"
  },
  "language_info": {
   "codemirror_mode": {
    "name": "ipython",
    "version": 3
   },
   "file_extension": ".py",
   "mimetype": "text/x-python",
   "name": "python",
   "nbconvert_exporter": "python",
   "pygments_lexer": "ipython3",
   "version": "3.9.5"
  }
 },
 "nbformat": 4,
 "nbformat_minor": 5
}
